{
 "cells": [
  {
   "cell_type": "code",
   "execution_count": 1,
   "metadata": {},
   "outputs": [],
   "source": [
    "phrase = 'Professor não tomou posse no cargo. Cerimônia que oficializaria nomeação foi cancelada após inconsistências no currículo.'\n",
    "word = 'curriculum'"
   ]
  },
  {
   "cell_type": "code",
   "execution_count": 8,
   "metadata": {},
   "outputs": [
    {
     "data": {
      "text/plain": [
       "str"
      ]
     },
     "execution_count": 8,
     "metadata": {},
     "output_type": "execute_result"
    }
   ],
   "source": [
    "# Verificação de tipo\n",
    "type(phrase)"
   ]
  },
  {
   "cell_type": "code",
   "execution_count": 2,
   "metadata": {},
   "outputs": [
    {
     "data": {
      "text/plain": [
       "11"
      ]
     },
     "execution_count": 2,
     "metadata": {},
     "output_type": "execute_result"
    }
   ],
   "source": [
    "# Contar a quantidade de letras 'a'\n",
    "phrase.count('a')"
   ]
  },
  {
   "cell_type": "code",
   "execution_count": 3,
   "metadata": {},
   "outputs": [
    {
     "data": {
      "text/plain": [
       "0"
      ]
     },
     "execution_count": 3,
     "metadata": {},
     "output_type": "execute_result"
    }
   ],
   "source": [
    "# Contar a quantidade de letras 'a' entre as possições 0 à 15\n",
    "phrase.count('a', 0, 15)"
   ]
  },
  {
   "cell_type": "code",
   "execution_count": 7,
   "metadata": {},
   "outputs": [
    {
     "data": {
      "text/plain": [
       "64"
      ]
     },
     "execution_count": 7,
     "metadata": {},
     "output_type": "execute_result"
    }
   ],
   "source": [
    "# Bucar a posição inicial da palavra nomeação\n",
    "phrase.find('nomeação')"
   ]
  },
  {
   "cell_type": "code",
   "execution_count": 9,
   "metadata": {},
   "outputs": [
    {
     "data": {
      "text/plain": [
       "'n'"
      ]
     },
     "execution_count": 9,
     "metadata": {},
     "output_type": "execute_result"
    }
   ],
   "source": [
    "# Inicio da palavra nomeação\n",
    "phrase[64]"
   ]
  },
  {
   "cell_type": "code",
   "execution_count": 10,
   "metadata": {},
   "outputs": [
    {
     "data": {
      "text/plain": [
       "False"
      ]
     },
     "execution_count": 10,
     "metadata": {},
     "output_type": "execute_result"
    }
   ],
   "source": [
    "# Verificar se a palavra está na frase\n",
    "'categoria' in phrase"
   ]
  },
  {
   "cell_type": "code",
   "execution_count": 11,
   "metadata": {},
   "outputs": [
    {
     "data": {
      "text/plain": [
       "True"
      ]
     },
     "execution_count": 11,
     "metadata": {},
     "output_type": "execute_result"
    }
   ],
   "source": [
    "# Verificar se a palavra está na frase\n",
    "'cargo' in phrase"
   ]
  },
  {
   "cell_type": "code",
   "execution_count": 13,
   "metadata": {},
   "outputs": [
    {
     "data": {
      "text/plain": [
       "'Professor não tomou posse no cargo. Cerimônia que oficializaria nomeação foi cancelada após inconsistências no currículo.Decotelli atualiza o currículo e cita que atuou como ministro durante seis dias.'"
      ]
     },
     "execution_count": 13,
     "metadata": {},
     "output_type": "execute_result"
    }
   ],
   "source": [
    "# Juntando strings\n",
    "phrase2 = 'Decotelli atualiza o currículo e cita que atuou como ministro durante seis dias.'\n",
    "phrase + phrase2"
   ]
  },
  {
   "cell_type": "code",
   "execution_count": 15,
   "metadata": {},
   "outputs": [
    {
     "data": {
      "text/plain": [
       "'curriculumcurriculumcurriculum'"
      ]
     },
     "execution_count": 15,
     "metadata": {},
     "output_type": "execute_result"
    }
   ],
   "source": [
    "# Repetindo palavras x vezes\n",
    "word * 3"
   ]
  },
  {
   "cell_type": "code",
   "execution_count": 17,
   "metadata": {},
   "outputs": [
    {
     "data": {
      "text/plain": [
       "['Professor',\n",
       " 'não',\n",
       " 'tomou',\n",
       " 'posse',\n",
       " 'no',\n",
       " 'cargo.',\n",
       " 'Cerimônia',\n",
       " 'que',\n",
       " 'oficializaria',\n",
       " 'nomeação',\n",
       " 'foi',\n",
       " 'cancelada',\n",
       " 'após',\n",
       " 'inconsistências',\n",
       " 'no',\n",
       " 'currículo.']"
      ]
     },
     "execution_count": 17,
     "metadata": {},
     "output_type": "execute_result"
    }
   ],
   "source": [
    "# Separando palavras por espaço em frase\n",
    "phrase.split(' ')"
   ]
  },
  {
   "cell_type": "code",
   "execution_count": 18,
   "metadata": {},
   "outputs": [
    {
     "data": {
      "text/plain": [
       "'Professor nop tomou posse no cargo. Cerimônia que oficializaria nomeação foi cancelada após inconsistências no currículo.'"
      ]
     },
     "execution_count": 18,
     "metadata": {},
     "output_type": "execute_result"
    }
   ],
   "source": [
    "# Mudando trocando uma palavra por outra\n",
    "phrase.replace('não', 'nop')"
   ]
  },
  {
   "cell_type": "code",
   "execution_count": 20,
   "metadata": {},
   "outputs": [
    {
     "data": {
      "text/plain": [
       "'Professor não tomou posse no cargo. cerimônia que oficializaria nomeação foi cancelada após inconsistências no currículo.'"
      ]
     },
     "execution_count": 20,
     "metadata": {},
     "output_type": "execute_result"
    }
   ],
   "source": [
    "# Deixando somente a primeira palavra com letra maiusculo\n",
    "phrase.capitalize()"
   ]
  },
  {
   "cell_type": "code",
   "execution_count": 21,
   "metadata": {},
   "outputs": [
    {
     "data": {
      "text/plain": [
       "'professor não tomou posse no cargo. cerimônia que oficializaria nomeação foi cancelada após inconsistências no currículo.'"
      ]
     },
     "execution_count": 21,
     "metadata": {},
     "output_type": "execute_result"
    }
   ],
   "source": [
    "# Deixar a frase toda com minúscula\n",
    "phrase.lower()"
   ]
  },
  {
   "cell_type": "code",
   "execution_count": 24,
   "metadata": {},
   "outputs": [
    {
     "data": {
      "text/plain": [
       "'PROFESSOR NÃO TOMOU POSSE NO CARGO. CERIMÔNIA QUE OFICIALIZARIA NOMEAÇÃO FOI CANCELADA APÓS INCONSISTÊNCIAS NO CURRÍCULO.'"
      ]
     },
     "execution_count": 24,
     "metadata": {},
     "output_type": "execute_result"
    }
   ],
   "source": [
    "# Deixar a frase toda em maiúscula\n",
    "phrase.upper()"
   ]
  },
  {
   "cell_type": "code",
   "execution_count": 28,
   "metadata": {},
   "outputs": [
    {
     "data": {
      "text/plain": [
       "'Professor Não Tomou Posse No Cargo. Cerimônia Que Oficializaria Nomeação Foi Cancelada Após Inconsistências No Currículo.'"
      ]
     },
     "execution_count": 28,
     "metadata": {},
     "output_type": "execute_result"
    }
   ],
   "source": [
    "# Primeira letra de cada palavra maiusculo\n",
    "phrase.title()"
   ]
  },
  {
   "cell_type": "code",
   "execution_count": 45,
   "metadata": {},
   "outputs": [
    {
     "name": "stdout",
     "output_type": "stream",
     "text": [
      "Professor não tomou posse no cargo. Cerimônia que oficializaria nomeação foi cancelada após inconsistências no currículo.\n",
      "rofessor não tomou posse no cargo. Cerimônia que oficializaria nomeação foi cancelada após inconsistências no currículo.\n"
     ]
    }
   ],
   "source": [
    "# Remove caractere no inicio e fim da frase\n",
    "print(phrase.strip())\n",
    "print(phrase.strip('P'))"
   ]
  },
  {
   "cell_type": "code",
   "execution_count": 31,
   "metadata": {},
   "outputs": [
    {
     "data": {
      "text/plain": [
       "'pROFESSOR NÃO TOMOU POSSE NO CARGO. cERIMÔNIA QUE OFICIALIZARIA NOMEAÇÃO FOI CANCELADA APÓS INCONSISTÊNCIAS NO CURRÍCULO.'"
      ]
     },
     "execution_count": 31,
     "metadata": {},
     "output_type": "execute_result"
    }
   ],
   "source": [
    "# Troca maiúsculo por minusculo\n",
    "phrase.swapcase()"
   ]
  },
  {
   "cell_type": "code",
   "execution_count": 32,
   "metadata": {},
   "outputs": [
    {
     "data": {
      "text/plain": [
       "False"
      ]
     },
     "execution_count": 32,
     "metadata": {},
     "output_type": "execute_result"
    }
   ],
   "source": [
    "# Verifica se a string representa estritamente textos.\n",
    "phrase.isalpha()"
   ]
  },
  {
   "cell_type": "code",
   "execution_count": 34,
   "metadata": {},
   "outputs": [
    {
     "data": {
      "text/plain": [
       "121"
      ]
     },
     "execution_count": 34,
     "metadata": {},
     "output_type": "execute_result"
    }
   ],
   "source": [
    "# Quantidade de caracteres na frase\n",
    "len(phrase)"
   ]
  },
  {
   "cell_type": "code",
   "execution_count": 36,
   "metadata": {},
   "outputs": [
    {
     "name": "stdout",
     "output_type": "stream",
     "text": [
      "True\n",
      "False\n"
     ]
    }
   ],
   "source": [
    "# Verifica se começa com uma caractere/palavra\n",
    "print(phrase.startswith('P'))\n",
    "print(phrase.startswith('f'))"
   ]
  },
  {
   "cell_type": "code",
   "execution_count": 38,
   "metadata": {},
   "outputs": [
    {
     "data": {
      "text/plain": [
       "'.'"
      ]
     },
     "execution_count": 38,
     "metadata": {},
     "output_type": "execute_result"
    }
   ],
   "source": [
    "phrase[-1]"
   ]
  },
  {
   "cell_type": "code",
   "execution_count": 44,
   "metadata": {},
   "outputs": [
    {
     "name": "stdout",
     "output_type": "stream",
     "text": [
      "True\n",
      "False\n"
     ]
    }
   ],
   "source": [
    "# Verifica se termina com caractere/palavra\n",
    "print(phrase.endswith('.'))\n",
    "print(phrase.endswith('O'))"
   ]
  },
  {
   "cell_type": "code",
   "execution_count": 46,
   "metadata": {},
   "outputs": [
    {
     "name": "stdout",
     "output_type": "stream",
     "text": [
      "Pr4f2ss4r nã4 t4m45 p4ss2 n4 c1rg4. C2r3môn31 q52 4f3c31l3z1r31 n4m21çã4 f43 c1nc2l1d1 1pós 3nc4ns3stênc31s n4 c5rríc5l4.\n"
     ]
    }
   ],
   "source": [
    "# mapeia cada termo pelo seu correspondente na tabela de tradução\n",
    "intab = 'aeiou'\n",
    "outtab = '12345'\n",
    "trantab = str.maketrans(intab, outtab)\n",
    "print(phrase.translate(trantab))"
   ]
  }
 ],
 "metadata": {
  "kernelspec": {
   "display_name": "Python 3",
   "language": "python",
   "name": "python3"
  },
  "language_info": {
   "codemirror_mode": {
    "name": "ipython",
    "version": 3
   },
   "file_extension": ".py",
   "mimetype": "text/x-python",
   "name": "python",
   "nbconvert_exporter": "python",
   "pygments_lexer": "ipython3",
   "version": "3.8.2"
  }
 },
 "nbformat": 4,
 "nbformat_minor": 4
}
